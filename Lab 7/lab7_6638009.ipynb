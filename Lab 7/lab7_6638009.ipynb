{
 "cells": [
  {
   "cell_type": "markdown",
   "metadata": {},
   "source": [
    "# Hypothesis Testing\n",
    "\n",
    "The goal of hypothesis testing is to answer the question, “Given a sample and an apparent effect, what is the probability of seeing such an effect by chance?”\n",
    "\n",
    "1. The first step is to quantify the size of the apparent effect by choosing a test statistic (t-test, ANOVA, etc).\n",
    "2. The next step is to define a null hypothesis, which is a model of the system based on the assumption that the apparent effect is not real.\n",
    "3. Then compute the p-value, which is the probability of the null hypothesis being true.\n",
    "4. Finally interpret the result of the p-value, if the value is low, the effect is said to be statistically significant, which means that the null hypothesis may not be accurate."
   ]
  },
  {
   "cell_type": "code",
   "execution_count": null,
   "metadata": {},
   "outputs": [],
   "source": [
    "!pip install opendatasets\n",
    "import opendatasets as od\n",
    "import pandas as pd\n",
    "import numpy as np\n",
    "import scipy.stats\n",
    "import matplotlib.pyplot as plt\n",
    "import seaborn as sns"
   ]
  },
  {
   "cell_type": "markdown",
   "metadata": {},
   "source": [
    "# Download Teaching Rating Dataset\n",
    "\n",
    "Please download the teaching rating dataset from [here](https://drive.google.com/drive/folders/1OA2MZaoX-Sx_h7ssDE4QPixddmsP86Y1?usp=sharing)."
   ]
  },
  {
   "cell_type": "code",
   "execution_count": 36,
   "metadata": {},
   "outputs": [
    {
     "name": "stdout",
     "output_type": "stream",
     "text": [
      "Downloading from Google Drive (may take a while): https://drive.google.com/file/d/1O8OCiSIWtVqqAgjUFjbvQagz86kuQHNx/view?usp=sharing\n"
     ]
    },
    {
     "name": "stderr",
     "output_type": "stream",
     "text": [
      "39650it [00:00, 116868695.43it/s]"
     ]
    },
    {
     "name": "stdout",
     "output_type": "stream",
     "text": [
      "Downloaded to  ./teachingratings.csv\n"
     ]
    },
    {
     "name": "stderr",
     "output_type": "stream",
     "text": [
      "\n"
     ]
    },
    {
     "data": {
      "text/html": [
       "<div>\n",
       "<style scoped>\n",
       "    .dataframe tbody tr th:only-of-type {\n",
       "        vertical-align: middle;\n",
       "    }\n",
       "\n",
       "    .dataframe tbody tr th {\n",
       "        vertical-align: top;\n",
       "    }\n",
       "\n",
       "    .dataframe thead th {\n",
       "        text-align: right;\n",
       "    }\n",
       "</style>\n",
       "<table border=\"1\" class=\"dataframe\">\n",
       "  <thead>\n",
       "    <tr style=\"text-align: right;\">\n",
       "      <th></th>\n",
       "      <th>minority</th>\n",
       "      <th>age</th>\n",
       "      <th>gender</th>\n",
       "      <th>credits</th>\n",
       "      <th>beauty</th>\n",
       "      <th>eval</th>\n",
       "      <th>division</th>\n",
       "      <th>native</th>\n",
       "      <th>tenure</th>\n",
       "      <th>students</th>\n",
       "      <th>allstudents</th>\n",
       "      <th>prof</th>\n",
       "      <th>PrimaryLast</th>\n",
       "      <th>vismin</th>\n",
       "      <th>female</th>\n",
       "      <th>single_credit</th>\n",
       "      <th>upper_division</th>\n",
       "      <th>English_speaker</th>\n",
       "      <th>tenured_prof</th>\n",
       "    </tr>\n",
       "  </thead>\n",
       "  <tbody>\n",
       "    <tr>\n",
       "      <th>0</th>\n",
       "      <td>yes</td>\n",
       "      <td>36</td>\n",
       "      <td>female</td>\n",
       "      <td>more</td>\n",
       "      <td>0.289916</td>\n",
       "      <td>4.3</td>\n",
       "      <td>upper</td>\n",
       "      <td>yes</td>\n",
       "      <td>yes</td>\n",
       "      <td>24</td>\n",
       "      <td>43</td>\n",
       "      <td>1</td>\n",
       "      <td>0</td>\n",
       "      <td>1</td>\n",
       "      <td>1</td>\n",
       "      <td>0</td>\n",
       "      <td>1</td>\n",
       "      <td>1</td>\n",
       "      <td>1</td>\n",
       "    </tr>\n",
       "    <tr>\n",
       "      <th>1</th>\n",
       "      <td>yes</td>\n",
       "      <td>36</td>\n",
       "      <td>female</td>\n",
       "      <td>more</td>\n",
       "      <td>0.289916</td>\n",
       "      <td>3.7</td>\n",
       "      <td>upper</td>\n",
       "      <td>yes</td>\n",
       "      <td>yes</td>\n",
       "      <td>86</td>\n",
       "      <td>125</td>\n",
       "      <td>1</td>\n",
       "      <td>0</td>\n",
       "      <td>1</td>\n",
       "      <td>1</td>\n",
       "      <td>0</td>\n",
       "      <td>1</td>\n",
       "      <td>1</td>\n",
       "      <td>1</td>\n",
       "    </tr>\n",
       "    <tr>\n",
       "      <th>2</th>\n",
       "      <td>yes</td>\n",
       "      <td>36</td>\n",
       "      <td>female</td>\n",
       "      <td>more</td>\n",
       "      <td>0.289916</td>\n",
       "      <td>3.6</td>\n",
       "      <td>upper</td>\n",
       "      <td>yes</td>\n",
       "      <td>yes</td>\n",
       "      <td>76</td>\n",
       "      <td>125</td>\n",
       "      <td>1</td>\n",
       "      <td>0</td>\n",
       "      <td>1</td>\n",
       "      <td>1</td>\n",
       "      <td>0</td>\n",
       "      <td>1</td>\n",
       "      <td>1</td>\n",
       "      <td>1</td>\n",
       "    </tr>\n",
       "    <tr>\n",
       "      <th>3</th>\n",
       "      <td>yes</td>\n",
       "      <td>36</td>\n",
       "      <td>female</td>\n",
       "      <td>more</td>\n",
       "      <td>0.289916</td>\n",
       "      <td>4.4</td>\n",
       "      <td>upper</td>\n",
       "      <td>yes</td>\n",
       "      <td>yes</td>\n",
       "      <td>77</td>\n",
       "      <td>123</td>\n",
       "      <td>1</td>\n",
       "      <td>1</td>\n",
       "      <td>1</td>\n",
       "      <td>1</td>\n",
       "      <td>0</td>\n",
       "      <td>1</td>\n",
       "      <td>1</td>\n",
       "      <td>1</td>\n",
       "    </tr>\n",
       "    <tr>\n",
       "      <th>4</th>\n",
       "      <td>no</td>\n",
       "      <td>59</td>\n",
       "      <td>male</td>\n",
       "      <td>more</td>\n",
       "      <td>-0.737732</td>\n",
       "      <td>4.5</td>\n",
       "      <td>upper</td>\n",
       "      <td>yes</td>\n",
       "      <td>yes</td>\n",
       "      <td>17</td>\n",
       "      <td>20</td>\n",
       "      <td>2</td>\n",
       "      <td>0</td>\n",
       "      <td>0</td>\n",
       "      <td>0</td>\n",
       "      <td>0</td>\n",
       "      <td>1</td>\n",
       "      <td>1</td>\n",
       "      <td>1</td>\n",
       "    </tr>\n",
       "    <tr>\n",
       "      <th>...</th>\n",
       "      <td>...</td>\n",
       "      <td>...</td>\n",
       "      <td>...</td>\n",
       "      <td>...</td>\n",
       "      <td>...</td>\n",
       "      <td>...</td>\n",
       "      <td>...</td>\n",
       "      <td>...</td>\n",
       "      <td>...</td>\n",
       "      <td>...</td>\n",
       "      <td>...</td>\n",
       "      <td>...</td>\n",
       "      <td>...</td>\n",
       "      <td>...</td>\n",
       "      <td>...</td>\n",
       "      <td>...</td>\n",
       "      <td>...</td>\n",
       "      <td>...</td>\n",
       "      <td>...</td>\n",
       "    </tr>\n",
       "    <tr>\n",
       "      <th>458</th>\n",
       "      <td>no</td>\n",
       "      <td>37</td>\n",
       "      <td>male</td>\n",
       "      <td>more</td>\n",
       "      <td>0.933396</td>\n",
       "      <td>3.5</td>\n",
       "      <td>upper</td>\n",
       "      <td>yes</td>\n",
       "      <td>yes</td>\n",
       "      <td>15</td>\n",
       "      <td>17</td>\n",
       "      <td>40</td>\n",
       "      <td>1</td>\n",
       "      <td>0</td>\n",
       "      <td>0</td>\n",
       "      <td>0</td>\n",
       "      <td>1</td>\n",
       "      <td>1</td>\n",
       "      <td>1</td>\n",
       "    </tr>\n",
       "    <tr>\n",
       "      <th>459</th>\n",
       "      <td>no</td>\n",
       "      <td>58</td>\n",
       "      <td>female</td>\n",
       "      <td>more</td>\n",
       "      <td>0.111563</td>\n",
       "      <td>3.5</td>\n",
       "      <td>upper</td>\n",
       "      <td>yes</td>\n",
       "      <td>yes</td>\n",
       "      <td>26</td>\n",
       "      <td>34</td>\n",
       "      <td>47</td>\n",
       "      <td>1</td>\n",
       "      <td>0</td>\n",
       "      <td>1</td>\n",
       "      <td>0</td>\n",
       "      <td>1</td>\n",
       "      <td>1</td>\n",
       "      <td>1</td>\n",
       "    </tr>\n",
       "    <tr>\n",
       "      <th>460</th>\n",
       "      <td>no</td>\n",
       "      <td>42</td>\n",
       "      <td>male</td>\n",
       "      <td>more</td>\n",
       "      <td>-0.900580</td>\n",
       "      <td>4.0</td>\n",
       "      <td>upper</td>\n",
       "      <td>yes</td>\n",
       "      <td>yes</td>\n",
       "      <td>45</td>\n",
       "      <td>86</td>\n",
       "      <td>61</td>\n",
       "      <td>1</td>\n",
       "      <td>0</td>\n",
       "      <td>0</td>\n",
       "      <td>0</td>\n",
       "      <td>1</td>\n",
       "      <td>1</td>\n",
       "      <td>1</td>\n",
       "    </tr>\n",
       "    <tr>\n",
       "      <th>461</th>\n",
       "      <td>no</td>\n",
       "      <td>39</td>\n",
       "      <td>male</td>\n",
       "      <td>more</td>\n",
       "      <td>0.643014</td>\n",
       "      <td>4.3</td>\n",
       "      <td>upper</td>\n",
       "      <td>yes</td>\n",
       "      <td>yes</td>\n",
       "      <td>22</td>\n",
       "      <td>29</td>\n",
       "      <td>62</td>\n",
       "      <td>1</td>\n",
       "      <td>0</td>\n",
       "      <td>0</td>\n",
       "      <td>0</td>\n",
       "      <td>1</td>\n",
       "      <td>1</td>\n",
       "      <td>1</td>\n",
       "    </tr>\n",
       "    <tr>\n",
       "      <th>462</th>\n",
       "      <td>no</td>\n",
       "      <td>51</td>\n",
       "      <td>female</td>\n",
       "      <td>more</td>\n",
       "      <td>0.391822</td>\n",
       "      <td>3.0</td>\n",
       "      <td>upper</td>\n",
       "      <td>yes</td>\n",
       "      <td>yes</td>\n",
       "      <td>47</td>\n",
       "      <td>67</td>\n",
       "      <td>69</td>\n",
       "      <td>1</td>\n",
       "      <td>0</td>\n",
       "      <td>1</td>\n",
       "      <td>0</td>\n",
       "      <td>1</td>\n",
       "      <td>1</td>\n",
       "      <td>1</td>\n",
       "    </tr>\n",
       "  </tbody>\n",
       "</table>\n",
       "<p>463 rows × 19 columns</p>\n",
       "</div>"
      ],
      "text/plain": [
       "    minority  age  gender credits    beauty  eval division native tenure  \\\n",
       "0        yes   36  female    more  0.289916   4.3    upper    yes    yes   \n",
       "1        yes   36  female    more  0.289916   3.7    upper    yes    yes   \n",
       "2        yes   36  female    more  0.289916   3.6    upper    yes    yes   \n",
       "3        yes   36  female    more  0.289916   4.4    upper    yes    yes   \n",
       "4         no   59    male    more -0.737732   4.5    upper    yes    yes   \n",
       "..       ...  ...     ...     ...       ...   ...      ...    ...    ...   \n",
       "458       no   37    male    more  0.933396   3.5    upper    yes    yes   \n",
       "459       no   58  female    more  0.111563   3.5    upper    yes    yes   \n",
       "460       no   42    male    more -0.900580   4.0    upper    yes    yes   \n",
       "461       no   39    male    more  0.643014   4.3    upper    yes    yes   \n",
       "462       no   51  female    more  0.391822   3.0    upper    yes    yes   \n",
       "\n",
       "     students  allstudents  prof  PrimaryLast  vismin  female  single_credit  \\\n",
       "0          24           43     1            0       1       1              0   \n",
       "1          86          125     1            0       1       1              0   \n",
       "2          76          125     1            0       1       1              0   \n",
       "3          77          123     1            1       1       1              0   \n",
       "4          17           20     2            0       0       0              0   \n",
       "..        ...          ...   ...          ...     ...     ...            ...   \n",
       "458        15           17    40            1       0       0              0   \n",
       "459        26           34    47            1       0       1              0   \n",
       "460        45           86    61            1       0       0              0   \n",
       "461        22           29    62            1       0       0              0   \n",
       "462        47           67    69            1       0       1              0   \n",
       "\n",
       "     upper_division  English_speaker  tenured_prof  \n",
       "0                 1                1             1  \n",
       "1                 1                1             1  \n",
       "2                 1                1             1  \n",
       "3                 1                1             1  \n",
       "4                 1                1             1  \n",
       "..              ...              ...           ...  \n",
       "458               1                1             1  \n",
       "459               1                1             1  \n",
       "460               1                1             1  \n",
       "461               1                1             1  \n",
       "462               1                1             1  \n",
       "\n",
       "[463 rows x 19 columns]"
      ]
     },
     "metadata": {},
     "output_type": "display_data"
    }
   ],
   "source": [
    "# Downoad from google drive\n",
    "od.download(\"https://drive.google.com/file/d/1O8OCiSIWtVqqAgjUFjbvQagz86kuQHNx/view?usp=sharing\")\n",
    "\n",
    "# Load the dataset into a pandas DataFrame.\n",
    "df = pd.read_csv(\"teachingratings.csv\")\n",
    "\n",
    "# show the DataFrame.\n",
    "display(df)"
   ]
  },
  {
   "cell_type": "markdown",
   "metadata": {},
   "source": [
    "# Task 1: Using the independent samples t-Test, does gender (i.e., 'gender') affect teaching evaluation rates (i.e., 'eval')?\n",
    "\n",
    "In Task 1, we will be using the t-test for independent samples.\n",
    "\n",
    "For the independent t-test, the following assumptions must be met.\n",
    "\n",
    "- Observations in each sample are independent and identically distributed (iid).\n",
    "    - Each subject should belong to only one group. There is no relationship between the observations in each group.\n",
    "- Observations in each sample are normally distributed.\n",
    "- Observations in each sample have the same variance."
   ]
  },
  {
   "cell_type": "markdown",
   "metadata": {},
   "source": [
    "## **Task 1.1: Please state the hypothesis when we are using the independent samples t-Test**\n",
    "\n",
    "Please provide your answer in the text cell below what are the Null Hypothesis (H0) and the Alternative Hypothesis (H1)\n",
    "\n",
    "- Null Hypothesis (**H0**): The rating is not different in between Male vs Female Teachers\n",
    "- Alternative Hypothesis (**H1**): The rating is different in between Male vs Female Teachers"
   ]
  },
  {
   "cell_type": "code",
   "execution_count": 37,
   "metadata": {},
   "outputs": [],
   "source": [
    "# Null Hypothesis (H0): The rating is not different in between Male vs Female Teachers\n",
    "# Alternative Hypothesis (H1): The rating is different in between Male vs Female Teachers"
   ]
  },
  {
   "cell_type": "markdown",
   "metadata": {},
   "source": [
    "## Task 1.2: Split the dataset into the teachers' rating from males and females"
   ]
  },
  {
   "cell_type": "code",
   "execution_count": 38,
   "metadata": {},
   "outputs": [
    {
     "data": {
      "text/plain": [
       "4      4.5\n",
       "5      4.0\n",
       "6      2.1\n",
       "7      3.7\n",
       "8      3.2\n",
       "      ... \n",
       "450    3.2\n",
       "451    4.3\n",
       "458    3.5\n",
       "460    4.0\n",
       "461    4.3\n",
       "Name: eval, Length: 268, dtype: float64"
      ]
     },
     "metadata": {},
     "output_type": "display_data"
    },
    {
     "data": {
      "text/plain": [
       "0      4.3\n",
       "1      3.7\n",
       "2      3.6\n",
       "3      4.4\n",
       "9      4.3\n",
       "      ... \n",
       "455    4.1\n",
       "456    3.3\n",
       "457    2.3\n",
       "459    3.5\n",
       "462    3.0\n",
       "Name: eval, Length: 195, dtype: float64"
      ]
     },
     "metadata": {},
     "output_type": "display_data"
    }
   ],
   "source": [
    "male_rating_df = df[df['gender'] == 'male']['eval']\n",
    "female_rating_df = df[df['gender'] == 'female']['eval']\n",
    "display(male_rating_df)\n",
    "display(female_rating_df)"
   ]
  },
  {
   "cell_type": "markdown",
   "metadata": {},
   "source": [
    "## Task 1.3: Test whether the teaching evaluation ratings 'eval' are normally distributed"
   ]
  },
  {
   "cell_type": "markdown",
   "metadata": {},
   "source": [
    "### Task 1.3.1: Visual Inspection\n",
    "\n",
    "Please use `sns.histplot` to visually inspect whether the `'eval'` column is normally distributed.\n",
    "\n",
    "Please provide your answer in the text cell below whether the data are normally distributed."
   ]
  },
  {
   "cell_type": "code",
   "execution_count": 39,
   "metadata": {},
   "outputs": [
    {
     "data": {
      "image/png": "[encoded data removed]",
      "text/plain": [
       "<Figure size 1000x600 with 2 Axes>"
      ]
     },
     "metadata": {},
     "output_type": "display_data"
    }
   ],
   "source": [
    "fig, axes = plt.subplots(1, 2, figsize=(10,6))\n",
    "# male\n",
    "sns.histplot(male_rating_df, kde=True, ax=axes[0], color=\"red\")\n",
    "axes[0].set_title('Male Teachers')\n",
    "axes[0].set_xlabel('Data')\n",
    "axes[0].set_ylabel('Count')\n",
    "\n",
    "# female\n",
    "sns.histplot(female_rating_df, kde=True, ax=axes[1], color=\"green\")\n",
    "axes[1].set_title('Female Teachers')\n",
    "axes[1].set_xlabel('Data')\n",
    "axes[1].set_ylabel('Count')\n",
    "plt.show()"
   ]
  },
  {
   "cell_type": "markdown",
   "metadata": {},
   "source": [
    "### Task 1.3.2: Normality Test via Shapiro-Wilk test\n",
    "\n",
    "Please use `scipy.stats.shapiro` to test for normality.\n",
    "\n",
    "Please provide your answer in the text cell below whether the data are normally distributed."
   ]
  },
  {
   "cell_type": "code",
   "execution_count": 40,
   "metadata": {},
   "outputs": [
    {
     "data": {
      "text/plain": [
       "'Male:'"
      ]
     },
     "metadata": {},
     "output_type": "display_data"
    },
    {
     "data": {
      "text/plain": [
       "ShapiroResult(statistic=np.float64(0.9687742582799467), pvalue=np.float64(1.3880709041665185e-05))"
      ]
     },
     "metadata": {},
     "output_type": "display_data"
    },
    {
     "data": {
      "text/plain": [
       "'Female'"
      ]
     },
     "metadata": {},
     "output_type": "display_data"
    },
    {
     "data": {
      "text/plain": [
       "ShapiroResult(statistic=np.float64(0.98163174037128), pvalue=np.float64(0.011731484258520962))"
      ]
     },
     "metadata": {},
     "output_type": "display_data"
    },
    {
     "name": "stdout",
     "output_type": "stream",
     "text": [
      "stat=0.969, p=0.000\n",
      "Probably not Gaussian\n",
      "stat=0.982, p=0.012\n",
      "Probably not Gaussian\n"
     ]
    }
   ],
   "source": [
    "from scipy.stats import shapiro\n",
    "male_test = shapiro(male_rating_df)\n",
    "female_test = shapiro(female_rating_df)\n",
    "display(\"Male:\", male_test)\n",
    "display(\"Female\", female_test)\n",
    "\n",
    "\n",
    "stat, p = shapiro(male_rating_df)\n",
    "print('stat=%.3f, p=%.3f' % (stat, p))\n",
    "if p > 0.05:\n",
    " print('Probably Gaussian' )\n",
    "else:\n",
    " print('Probably not Gaussian' )\n",
    "\n",
    "\n",
    " stat, p = shapiro(female_rating_df)\n",
    "print('stat=%.3f, p=%.3f' % (stat, p))\n",
    "if p > 0.05:\n",
    " print('Probably Gaussian' )\n",
    "else:\n",
    " print('Probably not Gaussian' )"
   ]
  },
  {
   "cell_type": "markdown",
   "metadata": {},
   "source": [
    "*<span style=\"color:yellow\">\n",
    "From Shapiro Test for Normality, we found Male Test Score is 0.968 and Female Test Score is 0.981\n",
    "P value for male is 1.388\n",
    "P Value for Female is 0.011\n",
    "So it means both male and female data is not normal distribution because P value is lower < alpha 0.05\n",
    "</span>*"
   ]
  },
  {
   "cell_type": "markdown",
   "metadata": {},
   "source": [
    "## Task 1.4: Verify that the variances of teaching evaluation rates are equal\n",
    "\n",
    "Please specify `center` when using `scipy.stats.levene` based on your conclusion in Task 1.3.1.\n",
    "\n",
    "**Hint**:\n",
    "\n",
    "- `center='mean'` is used when the data are normally distributed.\n",
    "- `center='median'` is used when the data are not normally distributed.\n",
    "\n",
    "Please provide your answer below whether two samples have the same variances."
   ]
  },
  {
   "cell_type": "code",
   "execution_count": 41,
   "metadata": {},
   "outputs": [
    {
     "data": {
      "text/plain": [
       "LeveneResult(statistic=np.float64(0.1194317835514822), pvalue=np.float64(0.7298092272287092))"
      ]
     },
     "metadata": {},
     "output_type": "display_data"
    },
    {
     "name": "stdout",
     "output_type": "stream",
     "text": [
      "stat=0.190, p=0.663\n",
      "Probably the same variances\n",
      "stat=0.119, p=0.730\n",
      "Probably the same variances\n"
     ]
    }
   ],
   "source": [
    "from scipy.stats import levene\n",
    "test = levene(male_rating_df, female_rating_df, center='median')\n",
    "display(test)\n",
    "\n",
    "# Data is normally distributed\n",
    "stat, p = levene(male_rating_df, female_rating_df, center='mean')\n",
    "print('stat=%.3f, p=%.3f' % (stat, p))\n",
    "if p > 0.05: print('Probably the same variances' )\n",
    "else: print('Probably different variances' )\n",
    "\n",
    "\n",
    "# Data is NOT normally distributed\n",
    "stat, p = levene(male_rating_df, female_rating_df, center='median')\n",
    "print('stat=%.3f, p=%.3f' % (stat, p))\n",
    "if p > 0.05: print('Probably the same variances' )\n",
    "else: print('Probably different variances' )"
   ]
  },
  {
   "cell_type": "markdown",
   "metadata": {},
   "source": [
    "*<span style=\"color:yellow\">\n",
    "The Levene Test shows that Statistics is 0.119 and P values is 0.729\n",
    "so here as well alpha 0.05 < P value so it is not normal distribution\n",
    "</span>*\n",
    "\n"
   ]
  },
  {
   "cell_type": "markdown",
   "metadata": {},
   "source": [
    "## Task 1.5: Perform the independent samples t-Test\n",
    "\n",
    "Please specify `equal_var` when using `scipy.stats.ttest_ind` based on the Levene's test results in Task 1.4.\n",
    "\n",
    "Please provide your answer in the text cell below whether the gender affects teaching evaluation rating based on the t-test result."
   ]
  },
  {
   "cell_type": "code",
   "execution_count": 42,
   "metadata": {},
   "outputs": [
    {
     "data": {
      "text/plain": [
       "TtestResult(statistic=np.float64(3.249937943510772), pvalue=np.float64(0.0012387609449522217), df=np.float64(461.0))"
      ]
     },
     "metadata": {},
     "output_type": "display_data"
    },
    {
     "name": "stdout",
     "output_type": "stream",
     "text": [
      "stat=3.250, p=0.001\n",
      "Probably different distributions\n"
     ]
    }
   ],
   "source": [
    "from scipy.stats import ttest_ind\n",
    "t_test = ttest_ind(male_rating_df, female_rating_df, equal_var=True)\n",
    "display(t_test)\n",
    "\n",
    "stat, p = ttest_ind(male_rating_df, female_rating_df, equal_var=True)\n",
    "print('stat=%.3f, p=%.3f' % (stat, p))\n",
    "if p > 0.05:\n",
    " print('Probably the same distribution' )\n",
    "else:\n",
    " print('Probably different distributions' )"
   ]
  },
  {
   "cell_type": "markdown",
   "metadata": {},
   "source": [
    "*<span style=\"color:yellow\">The statistics is 3.2499 and P value is 0.0012 which is lower that alpha 0.05</span>*\n"
   ]
  },
  {
   "cell_type": "markdown",
   "metadata": {},
   "source": [
    "## Task 1.6: Perform the Mann-Whitney U-Test to see whether the gender (i.e., `'gender'`) affects teaching evaluation rates (i.e., `'eval'`)?\n",
    "\n",
    "Please provide your answer in the text cell below whether the gender affects teaching evaluation rating based on the Mann-Whitney U-Test result."
   ]
  },
  {
   "cell_type": "code",
   "execution_count": 43,
   "metadata": {},
   "outputs": [
    {
     "data": {
      "text/plain": [
       "MannwhitneyuResult(statistic=np.float64(30911.0), pvalue=np.float64(0.0007567781189068588))"
      ]
     },
     "metadata": {},
     "output_type": "display_data"
    },
    {
     "name": "stdout",
     "output_type": "stream",
     "text": [
      "stat=3.250, p=0.001\n",
      "Probably different distributions\n"
     ]
    }
   ],
   "source": [
    "from scipy.stats import mannwhitneyu\n",
    "u_test = mannwhitneyu(male_rating_df, female_rating_df)\n",
    "display(u_test)\n",
    "\n",
    "u_test = mannwhitneyu(male_rating_df, female_rating_df)\n",
    "print('stat=%.3f, p=%.3f' % (stat, p))\n",
    "if p > 0.05:\n",
    " print('Probably the same distribution' )\n",
    "else:\n",
    " print('Probably different distributions' )"
   ]
  },
  {
   "cell_type": "markdown",
   "metadata": {},
   "source": [
    "*<span style=\"color:yellow\">Here also statistics is 30911.0 and P value is 0.00075 which is lover that alpha 0.05</span>*\n"
   ]
  },
  {
   "cell_type": "markdown",
   "metadata": {},
   "source": [
    "# Task 2: Using the one-way ANOVA, does teaching evaluation score for instructors differ by age?\n",
    "\n",
    "For the one-way ANOVA, the following assumptions must be met.\n",
    "\n",
    "- Observations in each sample are independent and identically distributed (iid).\n",
    "- Observations in each sample are normally distributed.\n",
    "- Observations in each sample have the same variance.\n",
    "\n",
    "The following code can be used to split the dataset into three age groups: young, mid and old.\n",
    "\n",
    "```python\n",
    "young_rating_df = df.loc[(df['age'] <= 40), 'eval']\n",
    "mid_rating_df = df.loc[(df['age'] > 40) & (df['age'] < 57), 'eval']\n",
    "old_rating_df = df.loc[(df['age'] >= 57), 'eval']\n",
    "```\n",
    "\n",
    "In this task, we will assume that the data in each age group are normally distributed. Thus the only test left before we can run the one-way ANOVA is the test for the equality of variances."
   ]
  },
  {
   "cell_type": "markdown",
   "metadata": {},
   "source": [
    "## Task 2.1: Compute the mean and the std of each group"
   ]
  },
  {
   "cell_type": "code",
   "execution_count": 44,
   "metadata": {},
   "outputs": [
    {
     "data": {
      "text/plain": [
       "{'young': {'Mean': np.float64(4.002654871054455),\n",
       "  'Standard Deviation': np.float64(0.5057632493708224)},\n",
       " 'mid': {'Mean': np.float64(4.030701748111792),\n",
       "  'Standard Deviation': np.float64(0.5379234358312474)},\n",
       " 'old': {'Mean': np.float64(3.9336065581587496),\n",
       "  'Standard Deviation': np.float64(0.6242497286958886)}}"
      ]
     },
     "metadata": {},
     "output_type": "display_data"
    }
   ],
   "source": [
    "young_rating_df = df.loc[(df['age'] <= 40), 'eval']\n",
    "mid_rating_df = df.loc[(df['age'] > 40) & (df['age'] < 57), 'eval']\n",
    "old_rating_df = df.loc[(df['age'] >= 57), 'eval']\n",
    "\n",
    "dictgroup = {\n",
    "    'young': {'Mean': young_rating_df.mean(), 'Standard Deviation': young_rating_df.std()},\n",
    "    'mid': {'Mean': mid_rating_df.mean(), 'Standard Deviation': mid_rating_df.std()},\n",
    "    'old': {'Mean': old_rating_df.mean(), 'Standard Deviation': old_rating_df.std()}\n",
    "}\n",
    "\n",
    "display(dictgroup)"
   ]
  },
  {
   "cell_type": "markdown",
   "metadata": {},
   "source": [
    "## Task 2.2: Perform Levene's test\n",
    "\n",
    "Please specify `center` when using `scipy.stats.levene` to follow the normal distribution assumption.\n",
    "\n",
    "**Hint**: As `scipy.stats.levene` support more than two sets of samples, so you can run the test on three groups in one go.\n",
    "\n",
    "Please provide your answer in the text cell below whether the variance are the same or different."
   ]
  },
  {
   "cell_type": "code",
   "execution_count": 45,
   "metadata": {},
   "outputs": [
    {
     "name": "stdout",
     "output_type": "stream",
     "text": [
      "stat=3.820, p=0.023\n",
      "Probably different variances\n",
      "stat=3.820, p=0.023\n",
      "Probably different variances\n"
     ]
    }
   ],
   "source": [
    "from scipy.stats import levene\n",
    "\n",
    "# Data is normally distributed\n",
    "stat, p  = levene(young_rating_df, mid_rating_df, old_rating_df, center=\"mean\")\n",
    "print('stat=%.3f, p=%.3f' % (stat, p))\n",
    "if p > 0.05: print('Probably the same variances' )\n",
    "else: print('Probably different variances' )\n",
    "\n",
    "# Data is NOT normally distributed\n",
    "stat, p  = levene(young_rating_df, mid_rating_df, old_rating_df, center=\"mean\")\n",
    "print('stat=%.3f, p=%.3f' % (stat, p))\n",
    "if p > 0.05: print('Probably the same variances' )\n",
    "else: print('Probably different variances' )"
   ]
  },
  {
   "cell_type": "markdown",
   "metadata": {},
   "source": [
    "*<span style=\"color:yellow\">the statistics is 3.820 and P value 0.0226 which is also lower than alpha 0.05</span>*"
   ]
  },
  {
   "cell_type": "markdown",
   "metadata": {},
   "source": [
    "## Task 2.3: Perform one-way ANOVA\n",
    "\n",
    "Regardless of whether the assumption on the same variances hold, please write your code perform the one-way ANOVA.\n",
    "\n",
    "Please provide your answer in the text cell below whether the teaching evaluation rating differ by age groups?"
   ]
  },
  {
   "cell_type": "markdown",
   "metadata": {},
   "source": [
    "*<span style=\"color:yellow\">The statistics is 1.233 and P values is 0.295 which is higher than alpha 0.05</span>*"
   ]
  },
  {
   "cell_type": "code",
   "execution_count": 46,
   "metadata": {},
   "outputs": [],
   "source": [
    "#  %%shell\n",
    "#  jupyter nbconvert /content/LAB_7_6638009.ipynb --to html"
   ]
  }
 ],
 "metadata": {
  "kernelspec": {
   "display_name": "Python 3",
   "language": "python",
   "name": "python3"
  },
  "language_info": {
   "codemirror_mode": {
    "name": "ipython",
    "version": 3
   },
   "file_extension": ".py",
   "mimetype": "text/x-python",
   "name": "python",
   "nbconvert_exporter": "python",
   "pygments_lexer": "ipython3",
   "version": "3.12.1"
  }
 },
 "nbformat": 4,
 "nbformat_minor": 2
}
